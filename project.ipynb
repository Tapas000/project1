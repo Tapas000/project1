{
 "cells": [
  {
   "cell_type": "code",
   "execution_count": 17,
   "metadata": {},
   "outputs": [
    {
     "name": "stdout",
     "output_type": "stream",
     "text": [
      "Collecting matplotlib\n",
      "  Downloading matplotlib-3.9.0-cp312-cp312-win_amd64.whl.metadata (11 kB)\n",
      "Collecting contourpy>=1.0.1 (from matplotlib)\n",
      "  Downloading contourpy-1.2.1-cp312-cp312-win_amd64.whl.metadata (5.8 kB)\n",
      "Collecting cycler>=0.10 (from matplotlib)\n",
      "  Downloading cycler-0.12.1-py3-none-any.whl.metadata (3.8 kB)\n",
      "Collecting fonttools>=4.22.0 (from matplotlib)\n",
      "  Downloading fonttools-4.53.0-cp312-cp312-win_amd64.whl.metadata (165 kB)\n",
      "     ---------------------------------------- 0.0/165.5 kB ? eta -:--:--\n",
      "     -- ------------------------------------- 10.2/165.5 kB ? eta -:--:--\n",
      "     ------ ------------------------------ 30.7/165.5 kB 445.2 kB/s eta 0:00:01\n",
      "     --------- --------------------------- 41.0/165.5 kB 330.3 kB/s eta 0:00:01\n",
      "     ------------------ ------------------ 81.9/165.5 kB 573.4 kB/s eta 0:00:01\n",
      "     -------------------------- --------- 122.9/165.5 kB 658.7 kB/s eta 0:00:01\n",
      "     ------------------------------------ 165.5/165.5 kB 764.8 kB/s eta 0:00:00\n",
      "Collecting kiwisolver>=1.3.1 (from matplotlib)\n",
      "  Downloading kiwisolver-1.4.5-cp312-cp312-win_amd64.whl.metadata (6.5 kB)\n",
      "Requirement already satisfied: numpy>=1.23 in c:\\users\\91736\\appdata\\local\\programs\\python\\python312\\lib\\site-packages (from matplotlib) (2.0.0)\n",
      "Requirement already satisfied: packaging>=20.0 in c:\\users\\91736\\appdata\\roaming\\python\\python312\\site-packages (from matplotlib) (24.1)\n",
      "Collecting pillow>=8 (from matplotlib)\n",
      "  Downloading pillow-10.4.0-cp312-cp312-win_amd64.whl.metadata (9.3 kB)\n",
      "Collecting pyparsing>=2.3.1 (from matplotlib)\n",
      "  Downloading pyparsing-3.1.2-py3-none-any.whl.metadata (5.1 kB)\n",
      "Requirement already satisfied: python-dateutil>=2.7 in c:\\users\\91736\\appdata\\roaming\\python\\python312\\site-packages (from matplotlib) (2.9.0.post0)\n",
      "Requirement already satisfied: six>=1.5 in c:\\users\\91736\\appdata\\roaming\\python\\python312\\site-packages (from python-dateutil>=2.7->matplotlib) (1.16.0)\n",
      "Downloading matplotlib-3.9.0-cp312-cp312-win_amd64.whl (8.0 MB)\n",
      "   ---------------------------------------- 0.0/8.0 MB ? eta -:--:--\n",
      "    --------------------------------------- 0.2/8.0 MB 3.9 MB/s eta 0:00:02\n",
      "   - -------------------------------------- 0.2/8.0 MB 2.1 MB/s eta 0:00:04\n",
      "   -- ------------------------------------- 0.4/8.0 MB 2.8 MB/s eta 0:00:03\n",
      "   --- ------------------------------------ 0.6/8.0 MB 3.8 MB/s eta 0:00:02\n",
      "   ---- ----------------------------------- 0.9/8.0 MB 3.9 MB/s eta 0:00:02\n",
      "   ------- -------------------------------- 1.4/8.0 MB 5.4 MB/s eta 0:00:02\n",
      "   --------- ------------------------------ 2.0/8.0 MB 6.3 MB/s eta 0:00:01\n",
      "   ------------ --------------------------- 2.5/8.0 MB 7.2 MB/s eta 0:00:01\n",
      "   ------------- -------------------------- 2.7/8.0 MB 7.0 MB/s eta 0:00:01\n",
      "   ------------- -------------------------- 2.7/8.0 MB 7.0 MB/s eta 0:00:01\n",
      "   ------------- -------------------------- 2.7/8.0 MB 7.0 MB/s eta 0:00:01\n",
      "   ------------- -------------------------- 2.7/8.0 MB 7.0 MB/s eta 0:00:01\n",
      "   --------------- ------------------------ 3.1/8.0 MB 5.2 MB/s eta 0:00:01\n",
      "   ------------------ --------------------- 3.6/8.0 MB 5.8 MB/s eta 0:00:01\n",
      "   -------------------- ------------------- 4.0/8.0 MB 6.0 MB/s eta 0:00:01\n",
      "   -------------------- ------------------- 4.1/8.0 MB 5.5 MB/s eta 0:00:01\n",
      "   ------------------------ --------------- 4.9/8.0 MB 6.3 MB/s eta 0:00:01\n",
      "   ---------------------------- ----------- 5.6/8.0 MB 6.7 MB/s eta 0:00:01\n",
      "   ---------------------------- ----------- 5.7/8.0 MB 6.5 MB/s eta 0:00:01\n",
      "   ---------------------------- ----------- 5.7/8.0 MB 6.5 MB/s eta 0:00:01\n",
      "   ---------------------------- ----------- 5.7/8.0 MB 6.5 MB/s eta 0:00:01\n",
      "   ------------------------------ --------- 6.2/8.0 MB 6.1 MB/s eta 0:00:01\n",
      "   ------------------------------- -------- 6.2/8.0 MB 5.9 MB/s eta 0:00:01\n",
      "   ---------------------------------- ----- 6.9/8.0 MB 6.3 MB/s eta 0:00:01\n",
      "   ---------------------------------- ----- 6.9/8.0 MB 6.3 MB/s eta 0:00:01\n",
      "   ---------------------------------- ----- 6.9/8.0 MB 5.9 MB/s eta 0:00:01\n",
      "   ------------------------------------ --- 7.2/8.0 MB 6.2 MB/s eta 0:00:01\n",
      "   ------------------------------------ --- 7.4/8.0 MB 5.9 MB/s eta 0:00:01\n",
      "   -------------------------------------- - 7.7/8.0 MB 6.0 MB/s eta 0:00:01\n",
      "   ---------------------------------------- 8.0/8.0 MB 6.0 MB/s eta 0:00:00\n",
      "Downloading contourpy-1.2.1-cp312-cp312-win_amd64.whl (189 kB)\n",
      "   ---------------------------------------- 0.0/189.9 kB ? eta -:--:--\n",
      "   ---------------------------------------- 189.9/189.9 kB 5.8 MB/s eta 0:00:00\n",
      "Downloading cycler-0.12.1-py3-none-any.whl (8.3 kB)\n",
      "Downloading fonttools-4.53.0-cp312-cp312-win_amd64.whl (2.2 MB)\n",
      "   ---------------------------------------- 0.0/2.2 MB ? eta -:--:--\n",
      "   ---- ----------------------------------- 0.3/2.2 MB 5.2 MB/s eta 0:00:01\n",
      "   -------- ------------------------------- 0.5/2.2 MB 5.9 MB/s eta 0:00:01\n",
      "   ------------ --------------------------- 0.7/2.2 MB 5.6 MB/s eta 0:00:01\n",
      "   ----------------- ---------------------- 1.0/2.2 MB 5.5 MB/s eta 0:00:01\n",
      "   ---------------------- ----------------- 1.2/2.2 MB 5.5 MB/s eta 0:00:01\n",
      "   -------------------------- ------------- 1.5/2.2 MB 5.5 MB/s eta 0:00:01\n",
      "   ------------------------------- -------- 1.7/2.2 MB 5.2 MB/s eta 0:00:01\n",
      "   ------------------------------------ --- 2.0/2.2 MB 5.5 MB/s eta 0:00:01\n",
      "   ---------------------------------------- 2.2/2.2 MB 5.2 MB/s eta 0:00:00\n",
      "Downloading kiwisolver-1.4.5-cp312-cp312-win_amd64.whl (56 kB)\n",
      "   ---------------------------------------- 0.0/56.0 kB ? eta -:--:--\n",
      "   ---------------------------------------- 56.0/56.0 kB ? eta 0:00:00\n",
      "Downloading pillow-10.4.0-cp312-cp312-win_amd64.whl (2.6 MB)\n",
      "   ---------------------------------------- 0.0/2.6 MB ? eta -:--:--\n",
      "   ---- ----------------------------------- 0.3/2.6 MB 5.7 MB/s eta 0:00:01\n",
      "   ------- -------------------------------- 0.5/2.6 MB 6.2 MB/s eta 0:00:01\n",
      "   ------------ --------------------------- 0.8/2.6 MB 6.1 MB/s eta 0:00:01\n",
      "   ---------------- ----------------------- 1.0/2.6 MB 5.9 MB/s eta 0:00:01\n",
      "   -------------------- ------------------- 1.3/2.6 MB 5.6 MB/s eta 0:00:01\n",
      "   ------------------------ --------------- 1.6/2.6 MB 5.5 MB/s eta 0:00:01\n",
      "   ----------------------------- ---------- 1.9/2.6 MB 5.7 MB/s eta 0:00:01\n",
      "   --------------------------------- ------ 2.1/2.6 MB 5.6 MB/s eta 0:00:01\n",
      "   ------------------------------------- -- 2.4/2.6 MB 5.7 MB/s eta 0:00:01\n",
      "   ---------------------------------------- 2.6/2.6 MB 5.4 MB/s eta 0:00:00\n",
      "Downloading pyparsing-3.1.2-py3-none-any.whl (103 kB)\n",
      "   ---------------------------------------- 0.0/103.2 kB ? eta -:--:--\n",
      "   ---------------------------------------- 103.2/103.2 kB 6.2 MB/s eta 0:00:00\n",
      "Installing collected packages: pyparsing, pillow, kiwisolver, fonttools, cycler, contourpy, matplotlib\n",
      "Successfully installed contourpy-1.2.1 cycler-0.12.1 fonttools-4.53.0 kiwisolver-1.4.5 matplotlib-3.9.0 pillow-10.4.0 pyparsing-3.1.2\n",
      "Note: you may need to restart the kernel to use updated packages.\n"
     ]
    },
    {
     "name": "stderr",
     "output_type": "stream",
     "text": [
      "\n",
      "[notice] A new release of pip is available: 24.0 -> 24.1\n",
      "[notice] To update, run: python.exe -m pip install --upgrade pip\n"
     ]
    }
   ],
   "source": [
    "pip install matplotlib"
   ]
  },
  {
   "cell_type": "code",
   "execution_count": 14,
   "metadata": {},
   "outputs": [
    {
     "name": "stdout",
     "output_type": "stream",
     "text": [
      "TSLA: No data found for this date range, symbol may be delisted\n",
      "Empty DataFrame\n",
      "Columns: [Open, High, Low, Close, Adj Close, Volume]\n",
      "Index: []\n"
     ]
    }
   ],
   "source": [
    "import yfinance as yf\n",
    "import pandas as pd\n",
    "import requests\n",
    "import yfinance as yf\n",
    "from bs4 import BeautifulSoup\n",
    "\n",
    "url = 'https://cf-courses-data.s3.us.cloud-object-storage.appdomain.cloud/IBMDeveloperSkillsNetwork-PY0220EN-SkillsNetwork/labs/project/revenue.htm'\n",
    "\n",
    "# Define the stock symbol for Tesla\n",
    "ticker_symbol = \"TSLA\"\n",
    "tesla_data = yf.Ticker(ticker_symbol)\n",
    "tesla_hist = tesla_data.history(period=\"max\")\n",
    "print(tesla_hist.tail())\n",
    "\n"
   ]
  },
  {
   "cell_type": "code",
   "execution_count": 15,
   "metadata": {},
   "outputs": [
    {
     "name": "stdout",
     "output_type": "stream",
     "text": [
      "    Year  Revenue\n",
      "0   2021  $53,823\n",
      "1   2020  $31,536\n",
      "2   2019  $24,578\n",
      "3   2018  $21,461\n",
      "4   2017  $11,759\n",
      "5   2016   $7,000\n",
      "6   2015   $4,046\n",
      "7   2014   $3,198\n",
      "8   2013   $2,013\n",
      "9   2012     $413\n",
      "10  2011     $204\n",
      "11  2010     $117\n",
      "12  2009     $112\n"
     ]
    }
   ],
   "source": [
    "response = requests.get(url)\n",
    "\n",
    "# Parse the content of the request with BeautifulSoup\n",
    "soup = BeautifulSoup(response.content, 'html.parser')\n",
    "\n",
    "table = soup.find('table')\n",
    "\n",
    "years = []\n",
    "revenues = []\n",
    "for row in table.find_all('tr')[1:]:\n",
    "    cols = row.find_all('td')\n",
    "    years.append(cols[0].text.strip())\n",
    "    revenues.append(cols[1].text.strip())\n",
    "\n",
    "revenue_data = pd.DataFrame({\n",
    "    'Year': years,\n",
    "    'Revenue': revenues\n",
    "})\n",
    "\n",
    "print(revenue_data)"
   ]
  },
  {
   "cell_type": "code",
   "execution_count": 12,
   "metadata": {},
   "outputs": [
    {
     "name": "stdout",
     "output_type": "stream",
     "text": [
      "    Year  Revenue\n",
      "0   2021  $53,823\n",
      "1   2020  $31,536\n",
      "2   2019  $24,578\n",
      "3   2018  $21,461\n",
      "4   2017  $11,759\n",
      "5   2016   $7,000\n",
      "6   2015   $4,046\n",
      "7   2014   $3,198\n",
      "8   2013   $2,013\n",
      "9   2012     $413\n",
      "10  2011     $204\n",
      "11  2010     $117\n",
      "12  2009     $112\n"
     ]
    }
   ],
   "source": [
    "\n",
    "response = requests.get(url)\n",
    "\n",
    "soup = BeautifulSoup(response.content, 'html.parser')\n",
    "\n",
    "table = soup.find('table')\n",
    "\n",
    "years = []\n",
    "revenues = []\n",
    "\n",
    "for row in table.find_all('tr')[1:]:\n",
    "    cols = row.find_all('td')\n",
    "    years.append(cols[0].text.strip())\n",
    "    revenues.append(cols[1].text.strip())\n",
    "\n",
    "revenue_data = pd.DataFrame({\n",
    "    'Year': years,\n",
    "    'Revenue': revenues\n",
    "})\n",
    "print(revenue_data)"
   ]
  },
  {
   "cell_type": "code",
   "execution_count": 18,
   "metadata": {},
   "outputs": [
    {
     "name": "stdout",
     "output_type": "stream",
     "text": [
      "TSLA: No data found for this date range, symbol may be delisted\n"
     ]
    },
    {
     "data": {
      "image/png": "[encoded data removed]",
      "text/plain": [
       "<Figure size 1200x600 with 1 Axes>"
      ]
     },
     "metadata": {},
     "output_type": "display_data"
    }
   ],
   "source": [
    "import yfinance as yf\n",
    "import matplotlib.pyplot as plt\n",
    "\n",
    "# Define the stock symbol for Tesla\n",
    "ticker_symbol = \"TSLA\"\n",
    "\n",
    "# Get the stock data for Tesla\n",
    "tesla_data = yf.Ticker(ticker_symbol)\n",
    "\n",
    "# Fetch historical market data\n",
    "tesla_hist = tesla_data.history(period=\"max\")\n",
    "\n",
    "# Plotting the closing price\n",
    "plt.figure(figsize=(12, 6))\n",
    "plt.plot(tesla_hist.index, tesla_hist['Close'], label='Tesla Stock Price')\n",
    "plt.title('Tesla Stock Price')\n",
    "plt.xlabel('Date')\n",
    "plt.ylabel('Price ($)')\n",
    "plt.legend()\n",
    "plt.grid(True)\n",
    "plt.show()\n"
   ]
  },
  {
   "cell_type": "code",
   "execution_count": 19,
   "metadata": {},
   "outputs": [
    {
     "name": "stdout",
     "output_type": "stream",
     "text": [
      "GME: No data found for this date range, symbol may be delisted\n"
     ]
    },
    {
     "data": {
      "image/png": "[encoded data removed]",
      "text/plain": [
       "<Figure size 1200x600 with 1 Axes>"
      ]
     },
     "metadata": {},
     "output_type": "display_data"
    }
   ],
   "source": [
    "import yfinance as yf\n",
    "import matplotlib.pyplot as plt\n",
    "\n",
    "# Define the stock symbol for GameStop\n",
    "ticker_symbol = \"GME\"\n",
    "\n",
    "# Get the stock data for GameStop\n",
    "gme_data = yf.Ticker(ticker_symbol)\n",
    "\n",
    "# Fetch historical market data\n",
    "gme_hist = gme_data.history(period=\"max\")\n",
    "\n",
    "# Plotting the closing price\n",
    "plt.figure(figsize=(12, 6))\n",
    "plt.plot(gme_hist.index, gme_hist['Close'], label='GameStop Stock Price', color='green')  # Adjust color if needed\n",
    "plt.title('GameStop Stock Price')\n",
    "plt.xlabel('Date')\n",
    "plt.ylabel('Price ($)')\n",
    "plt.legend()\n",
    "plt.grid(True)\n",
    "plt.show()\n"
   ]
  }
 ],
 "metadata": {
  "kernelspec": {
   "display_name": "Python 3",
   "language": "python",
   "name": "python3"
  },
  "language_info": {
   "codemirror_mode": {
    "name": "ipython",
    "version": 3
   },
   "file_extension": ".py",
   "mimetype": "text/x-python",
   "name": "python",
   "nbconvert_exporter": "python",
   "pygments_lexer": "ipython3",
   "version": "3.12.2"
  }
 },
 "nbformat": 4,
 "nbformat_minor": 2
}
